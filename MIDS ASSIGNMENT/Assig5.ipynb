{
 "cells": [
  {
   "cell_type": "code",
   "execution_count": null,
   "id": "a6a1c158",
   "metadata": {},
   "outputs": [],
   "source": []
  },
  {
   "cell_type": "code",
   "execution_count": 3,
   "id": "1c752045",
   "metadata": {},
   "outputs": [],
   "source": [
    "import numpy as np\n",
    "from sklearn.cluster import KMeans"
   ]
  },
  {
   "cell_type": "code",
   "execution_count": 4,
   "id": "161ceed4",
   "metadata": {},
   "outputs": [],
   "source": [
    "points = np.array([[0.1, 0.6],\n",
    "                   [0.15, 0.71],\n",
    "                   [0.08, 0.9],\n",
    "                   [0.16, 0.85],\n",
    "                   [0.2, 0.3],\n",
    "                   [0.25, 0.5],\n",
    "                   [0.24, 0.1],\n",
    "                   [0.3, 0.2]])"
   ]
  },
  {
   "cell_type": "code",
   "execution_count": 7,
   "id": "90443327",
   "metadata": {},
   "outputs": [],
   "source": [
    "intial_centroid = np.array([[0.1, 0.6],[0.3, 0.2]])"
   ]
  },
  {
   "cell_type": "code",
   "execution_count": 9,
   "id": "436f6e33",
   "metadata": {},
   "outputs": [],
   "source": [
    "kmean = KMeans(n_clusters=2,init=intial_centroid,n_init=1).fit(points)"
   ]
  },
  {
   "cell_type": "code",
   "execution_count": 10,
   "id": "6e7d484e",
   "metadata": {},
   "outputs": [],
   "source": [
    "p6 = kmean.predict([[0.25, 0.5]])"
   ]
  },
  {
   "cell_type": "code",
   "execution_count": 11,
   "id": "3d0c2297",
   "metadata": {},
   "outputs": [
    {
     "data": {
      "text/plain": [
       "array([0], dtype=int32)"
      ]
     },
     "execution_count": 11,
     "metadata": {},
     "output_type": "execute_result"
    }
   ],
   "source": [
    "p6"
   ]
  },
  {
   "cell_type": "code",
   "execution_count": 16,
   "id": "f9736c14",
   "metadata": {},
   "outputs": [],
   "source": [
    "population = np.sum(kmean.labels_==1)"
   ]
  },
  {
   "cell_type": "code",
   "execution_count": 17,
   "id": "cf2102f6",
   "metadata": {},
   "outputs": [
    {
     "data": {
      "text/plain": [
       "3"
      ]
     },
     "execution_count": 17,
     "metadata": {},
     "output_type": "execute_result"
    }
   ],
   "source": [
    "population"
   ]
  },
  {
   "cell_type": "code",
   "execution_count": 18,
   "id": "06894bb2",
   "metadata": {},
   "outputs": [],
   "source": [
    "update_centre = kmean.cluster_centers_\n",
    "\n"
   ]
  },
  {
   "cell_type": "code",
   "execution_count": 19,
   "id": "bd41d5ed",
   "metadata": {},
   "outputs": [
    {
     "data": {
      "text/plain": [
       "array([0.148, 0.712])"
      ]
     },
     "execution_count": 19,
     "metadata": {},
     "output_type": "execute_result"
    }
   ],
   "source": [
    "update_centre[0]"
   ]
  },
  {
   "cell_type": "code",
   "execution_count": 20,
   "id": "f84d2743",
   "metadata": {},
   "outputs": [
    {
     "data": {
      "text/plain": [
       "array([0.24666667, 0.2       ])"
      ]
     },
     "execution_count": 20,
     "metadata": {},
     "output_type": "execute_result"
    }
   ],
   "source": [
    "update_centre[1]"
   ]
  },
  {
   "cell_type": "code",
   "execution_count": null,
   "id": "8ea9d592",
   "metadata": {},
   "outputs": [],
   "source": []
  }
 ],
 "metadata": {
  "kernelspec": {
   "display_name": "Python 3 (ipykernel)",
   "language": "python",
   "name": "python3"
  },
  "language_info": {
   "codemirror_mode": {
    "name": "ipython",
    "version": 3
   },
   "file_extension": ".py",
   "mimetype": "text/x-python",
   "name": "python",
   "nbconvert_exporter": "python",
   "pygments_lexer": "ipython3",
   "version": "3.11.5"
  }
 },
 "nbformat": 4,
 "nbformat_minor": 5
}
